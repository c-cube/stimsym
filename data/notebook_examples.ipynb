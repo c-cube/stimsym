{
 "cells": [
  {
   "cell_type": "code",
   "execution_count": null,
   "metadata": {
    "collapsed": true
   },
   "outputs": [],
   "source": []
  }
 ],
 "metadata": {
  "kernelspec": {
   "display_name": "Stimsym",
   "language": "stimsym",
   "name": "stimsym"
  },
  "language_info": {
   "file_extension": ".txt",
   "mimetype": "text",
   "name": "stimsym",
   "version": "0.1.0"
  }
 },
 "nbformat": 4,
 "nbformat_minor": 2
}
