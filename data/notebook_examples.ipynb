{
 "cells": [
  {
   "cell_type": "markdown",
   "metadata": {
    "collapsed": true
   },
   "source": [
    "# Examples\n",
    "\n",
    "This notebook contains many examples intended to demonstrate the power of [Stimsym](https://github.com/c-cube/stimsym)."
   ]
  },
  {
   "cell_type": "markdown",
   "metadata": {},
   "source": [
    " ## The Basics\n",
    "\n",
    "Stimsym is a symbolic language, where we manipulate expressions, not simply values. `a+b` is just an expression that evaluates to itself, since we do not know a concrete value for `a` or for `b`. Similarly, `f[a,b]` is the application of the function `f` to arguments `a,b`. Since `f` is not defined, the application does not evaluate, and it’s fine!"
   ]
  },
  {
   "cell_type": "code",
   "execution_count": 1,
   "metadata": {
    "collapsed": false
   },
   "outputs": [
    {
     "data": {
      "text/plain": [
       "3\n"
      ]
     },
     "execution_count": 1,
     "metadata": {},
     "output_type": "execute_result"
    }
   ],
   "source": [
    "1 + 2"
   ]
  },
  {
   "cell_type": "code",
   "execution_count": 2,
   "metadata": {
    "collapsed": false
   },
   "outputs": [
    {
     "data": {
      "text/plain": [
       "3+a\n"
      ]
     },
     "execution_count": 2,
     "metadata": {},
     "output_type": "execute_result"
    }
   ],
   "source": [
    "1 + a + 2"
   ]
  },
  {
   "cell_type": "code",
   "execution_count": 3,
   "metadata": {
    "collapsed": false
   },
   "outputs": [
    {
     "data": {
      "text/plain": [
       "f[a,b,c]\n"
      ]
     },
     "execution_count": 3,
     "metadata": {},
     "output_type": "execute_result"
    }
   ],
   "source": [
    "f[a,b,c]"
   ]
  },
  {
   "cell_type": "code",
   "execution_count": 4,
   "metadata": {
    "collapsed": false
   },
   "outputs": [
    {
     "data": {
      "text/plain": [
       "f[a,3+c]\n"
      ]
     },
     "execution_count": 4,
     "metadata": {},
     "output_type": "execute_result"
    }
   ],
   "source": [
    "f[a,1+2+c]"
   ]
  },
  {
   "cell_type": "markdown",
   "metadata": {},
   "source": [
    "We can define (partially) a function using `:=`.\n",
    "There is no static typing, and no need to defined a function on all its\n",
    "possible arguments:"
   ]
  },
  {
   "cell_type": "code",
   "execution_count": 5,
   "metadata": {
    "collapsed": true
   },
   "outputs": [],
   "source": [
    "f[x_,0] := x"
   ]
  },
  {
   "cell_type": "code",
   "execution_count": 6,
   "metadata": {
    "collapsed": false
   },
   "outputs": [
    {
     "data": {
      "text/plain": [
       "a\n"
      ]
     },
     "execution_count": 6,
     "metadata": {},
     "output_type": "execute_result"
    }
   ],
   "source": [
    "f[a, 0]"
   ]
  },
  {
   "cell_type": "code",
   "execution_count": 7,
   "metadata": {
    "collapsed": false
   },
   "outputs": [
    {
     "data": {
      "text/plain": [
       "f[b]\n"
      ]
     },
     "execution_count": 7,
     "metadata": {},
     "output_type": "execute_result"
    }
   ],
   "source": [
    "f[b]  (* no rule matches *)"
   ]
  },
  {
   "cell_type": "code",
   "execution_count": 8,
   "metadata": {
    "collapsed": false
   },
   "outputs": [
    {
     "data": {
      "text/plain": [
       "f[a,42]\n"
      ]
     },
     "execution_count": 8,
     "metadata": {},
     "output_type": "execute_result"
    }
   ],
   "source": [
    "f[a, 42]"
   ]
  },
  {
   "cell_type": "code",
   "execution_count": 9,
   "metadata": {
    "collapsed": false
   },
   "outputs": [
    {
     "data": {
      "text/plain": [
       "a\n"
      ]
     },
     "execution_count": 9,
     "metadata": {},
     "output_type": "execute_result"
    }
   ],
   "source": [
    "f[a,0+0]"
   ]
  },
  {
   "cell_type": "markdown",
   "metadata": {},
   "source": [
    "In this definition, you might have noticed how `x` appears with\n",
    "the `_` on the left, but not on the right.\n",
    "`x_` is actually a **blank pattern**: it matches any expression (any cargument)\n",
    "and binds the argument to the variable `x`.\n",
    "So, `g[x_,y_] := 2 x + y` defines `g` as a function that takes any two\n",
    "expressions and sums them after doubling the first one: `g[10,3]` will be `23`.\n",
    "More complicated **patterns** will only match some expressions.\n",
    "\n",
    "**Expressions** are built from the following ingredients:\n",
    "\n",
    "- integers: `1`, `-2`, `1234542452626246246225114787` (arbitrary precision)\n",
    "- rationals: `1/2`, `-5/10`, etc.\n",
    "- strings: `\"ab cd\"`, `\"f[a]\"`, `\"1+1\"`\n",
    "- symbols: any string composed of alphanumeric objects\n",
    "- builtins: many builtin functions, such as `Plus`. They often have\n",
    "  a shortcut representation, e.g. `Plus[a,b,c]` is `a+b+c+`, `Times[a,2]` is `a 2`, etc.\n",
    "- applications: `expr[expr,expr,…]` applies the first expression to\n",
    "  a sequence of arguments.\n",
    "  \n",
    "  * `f[]` applies `f` to 0 arguments;\n",
    "  * `f[a]` applies `f` to `a`;\n",
    "  * `f[a][b,c]` applies `f[a]` to arguments `b, c`.\n",
    "\n",
    "The primary container is the **list**, denoted `List[a,b,c]` or `{a,b,c}`.\n",
    "However, it is possible to store elements under any symbol that is\n",
    "not defined:"
   ]
  },
  {
   "cell_type": "code",
   "execution_count": 10,
   "metadata": {
    "collapsed": false
   },
   "outputs": [
    {
     "data": {
      "text/plain": [
       "{{a},{b,2}}\n"
      ]
     },
     "execution_count": 10,
     "metadata": {},
     "output_type": "execute_result"
    }
   ],
   "source": [
    "{{a},{b,1+1}}"
   ]
  },
  {
   "cell_type": "code",
   "execution_count": 11,
   "metadata": {
    "collapsed": false
   },
   "outputs": [
    {
     "data": {
      "text/plain": [
       "SomeSymbol[a,b,c]\n"
      ]
     },
     "execution_count": 11,
     "metadata": {},
     "output_type": "execute_result"
    }
   ],
   "source": [
    "SomeSymbol[a,b,c]"
   ]
  },
  {
   "cell_type": "markdown",
   "metadata": {},
   "source": [
    "## Rewriting"
   ]
  },
  {
   "cell_type": "markdown",
   "metadata": {},
   "source": [
    "The primary operation for evaluating expressions is **rewriting**.\n",
    "Every definition (`pattern := expr`) defines a rule that rewrites\n",
    "anything matching the pattern, to the expression.\n",
    "\n",
    "Some expressions define \"local\" rewriting rules:\n",
    "\n",
    "- `pattern -> expr` evaluates `expr` first, then defines the rule\n",
    "  mapping anything matching `pattern` to the evaluated expression.\n",
    "  This is typically only useful if `pattern` binds no variables (e.g.\n",
    "  if `pattern` is a constant)\n",
    "- `pattern :> expr` maps anything matching `pattern` to `expr`.\n",
    "  Here, `expr` is only evaluated once the pattern matches.\n",
    "  For instance, `f[x_] :> x+2` will rewrite `f[1]` to `3`,\n",
    "  `f[98]` to `100`, etc.\n",
    "\n",
    "The following operators rewrite expressions using local rules:\n",
    "\n",
    "- `expr //. rules`\n",
    "  (where `rules` is either one rule, or a list of rules)\n",
    "  rewrite `expr` with the rules until no rule applies anymore.\n",
    "- `expr /. rules`\n",
    "  (where `rules` is either one rule, or a list of rules)\n",
    "  rewrite `expr` with the rules, but each sub-expression is rewritten\n",
    "  at most once"
   ]
  },
  {
   "cell_type": "code",
   "execution_count": 12,
   "metadata": {
    "collapsed": false
   },
   "outputs": [
    {
     "data": {
      "text/plain": [
       "h[a]\n"
      ]
     },
     "execution_count": 12,
     "metadata": {},
     "output_type": "execute_result"
    }
   ],
   "source": [
    "g[f[f[f[a]]]] //.  {f[x_]:> x, g[x_] :> h[x]}"
   ]
  },
  {
   "cell_type": "code",
   "execution_count": 13,
   "metadata": {
    "collapsed": false
   },
   "outputs": [
    {
     "data": {
      "text/plain": [
       "h[h[h[a]]]\n"
      ]
     },
     "execution_count": 13,
     "metadata": {},
     "output_type": "execute_result"
    }
   ],
   "source": [
    "f[f[f[a]]] //.  {f[x_]:> g[x], g[x_] :> h[x]}"
   ]
  },
  {
   "cell_type": "code",
   "execution_count": 14,
   "metadata": {
    "collapsed": false
   },
   "outputs": [
    {
     "data": {
      "text/plain": [
       "g[g[g[a]]]\n"
      ]
     },
     "execution_count": 14,
     "metadata": {},
     "output_type": "execute_result"
    }
   ],
   "source": [
    "f[f[f[a]]] /.  {f[x_]:> g[x], g[x_] :> h[x]}"
   ]
  },
  {
   "cell_type": "markdown",
   "metadata": {},
   "source": [
    "## Patterns"
   ]
  },
  {
   "cell_type": "markdown",
   "metadata": {},
   "source": [
    "- blank pattern:\n",
    " `_` matches anything.  `x_` matches anything and binds `x` to it.\n",
    "- blank non empty sequence:\n",
    " `__` matches any non-empty **sequence** of arguments:\n",
    "  `f[a, y__] := {y}` will trigger on any expression `f[a,…]` and match `y` with\n",
    "  the `…`."
   ]
  },
  {
   "cell_type": "code",
   "execution_count": 15,
   "metadata": {
    "collapsed": true
   },
   "outputs": [],
   "source": [
    "f[a,y__] := {y}"
   ]
  },
  {
   "cell_type": "code",
   "execution_count": 16,
   "metadata": {
    "collapsed": false
   },
   "outputs": [
    {
     "data": {
      "text/plain": [
       "{b,c,d}\n"
      ]
     },
     "execution_count": 16,
     "metadata": {},
     "output_type": "execute_result"
    }
   ],
   "source": [
    "f[a,b,c,d]"
   ]
  },
  {
   "cell_type": "code",
   "execution_count": 17,
   "metadata": {
    "collapsed": false
   },
   "outputs": [
    {
     "data": {
      "text/plain": [
       "f[a]\n"
      ]
     },
     "execution_count": 17,
     "metadata": {},
     "output_type": "execute_result"
    }
   ],
   "source": [
    "f[a]  (* does not match *)"
   ]
  },
  {
   "cell_type": "code",
   "execution_count": 18,
   "metadata": {
    "collapsed": false
   },
   "outputs": [
    {
     "data": {
      "text/plain": [
       "f[b,c,d]\n"
      ]
     },
     "execution_count": 18,
     "metadata": {},
     "output_type": "execute_result"
    }
   ],
   "source": [
    "f[b,c,d]"
   ]
  },
  {
   "cell_type": "markdown",
   "metadata": {},
   "source": [
    "- blank sequence:\n",
    " `__` matches any **sequence** of arguments, including an empty one:\n",
    " `f[a, y___] := {y}` is very similar to `f[a,y__] := {y}`\n",
    "  but will also reduce `f[a]` to `{}`.\n",
    "\n",
    "- test pattern:\n",
    "  `p?f` is a pattern that matches any expression `e` against `p`, but\n",
    "  only if `f[e]` reduces to `True`.\n",
    "  Typically, `_?IntegerQ` matches any integer, `_?RationalQ`\n",
    "  any rational (or integer).\n",
    "\n",
    "- conditional pattern:\n",
    "  A pattern `p /; expr` matches the same expressions as `p` (where `p`\n",
    "  is a pattern), but only if `expr` evaluates to `True`.\n",
    "  The test `expr` is expected to reduce to `True` or `False`;\n",
    "  otherwise the evaluation fails.\n",
    "  This is more powerful, but more verbose, than a test pattern:\n",
    "  `_?IntegerQ` can be expressed as `x_ /; IntegerQ[x]`.\n",
    "\n",
    "More advanced example involving both a test and a conditional\n",
    "(because the condition `a+2==3` does not reduce to a boolean,\n",
    "we guard `x_` with an `IntegerQ` test):"
   ]
  },
  {
   "cell_type": "code",
   "execution_count": 19,
   "metadata": {
    "collapsed": false
   },
   "outputs": [
    {
     "data": {
      "text/plain": [
       "{success[1],2,a,4}\n"
      ]
     },
     "execution_count": 19,
     "metadata": {},
     "output_type": "execute_result"
    }
   ],
   "source": [
    "{1,2,a,4} /. (x_?IntegerQ /; (x+2 == 3) :> success[x])"
   ]
  },
  {
   "cell_type": "markdown",
   "metadata": {},
   "source": [
    "A funny example of rewriting is the following bubble sort (not efficient,\n",
    "but compact).\n",
    "It repeatedly rewrites the list `l` using the rule\n",
    "`{x___,y_,z_,k___}/;(y>z) :> {x,z,y,k}`, which finds two elements `y`\n",
    "and `z` in a list, with `y>z`, and swaps them.\n",
    "Note how `x___` and `k___` capture the other elements of the list."
   ]
  },
  {
   "cell_type": "code",
   "execution_count": 20,
   "metadata": {
    "collapsed": true
   },
   "outputs": [],
   "source": [
    "sort[l_] := l //. {x___,y_,z_,k___}/;(y>z) :> {x,z,y,k}"
   ]
  },
  {
   "cell_type": "code",
   "execution_count": 21,
   "metadata": {
    "collapsed": false
   },
   "outputs": [
    {
     "data": {
      "text/plain": [
       "{26,44,47,48,49,49,50,51,59,64,67,71,71,73,96}\n"
      ]
     },
     "execution_count": 21,
     "metadata": {},
     "output_type": "execute_result"
    }
   ],
   "source": [
    "sort[{64,44,71,48,96,47,59,71,73,51,67,50,26,49,49}]"
   ]
  },
  {
   "cell_type": "markdown",
   "metadata": {},
   "source": [
    "## Some Primitives\n",
    "\n",
    "Stimsym provides many primitives that are predefined for performance or convenience."
   ]
  },
  {
   "cell_type": "code",
   "execution_count": 22,
   "metadata": {
    "collapsed": false
   },
   "outputs": [
    {
     "data": {
      "text/plain": [
       "True\n"
      ]
     },
     "execution_count": 22,
     "metadata": {},
     "output_type": "execute_result"
    }
   ],
   "source": [
    "a===a  (* syntactic equality *)"
   ]
  },
  {
   "cell_type": "code",
   "execution_count": 23,
   "metadata": {
    "collapsed": false
   },
   "outputs": [
    {
     "data": {
      "text/plain": [
       "False\n"
      ]
     },
     "execution_count": 23,
     "metadata": {},
     "output_type": "execute_result"
    }
   ],
   "source": [
    "a===b"
   ]
  },
  {
   "cell_type": "code",
   "execution_count": 24,
   "metadata": {
    "collapsed": false
   },
   "outputs": [
    {
     "data": {
      "text/plain": [
       "True\n"
      ]
     },
     "execution_count": 24,
     "metadata": {},
     "output_type": "execute_result"
    }
   ],
   "source": [
    "10>5==5<=7 (* chain of tests *)"
   ]
  },
  {
   "cell_type": "code",
   "execution_count": 25,
   "metadata": {
    "collapsed": false
   },
   "outputs": [
    {
     "data": {
      "text/plain": [
       "a==a\n"
      ]
     },
     "execution_count": 25,
     "metadata": {},
     "output_type": "execute_result"
    }
   ],
   "source": [
    "a==a (* does not reduce *)"
   ]
  },
  {
   "cell_type": "code",
   "execution_count": 26,
   "metadata": {
    "collapsed": false
   },
   "outputs": [
    {
     "data": {
      "text/plain": [
       "a==a<b\n"
      ]
     },
     "execution_count": 26,
     "metadata": {},
     "output_type": "execute_result"
    }
   ],
   "source": [
    "a==a<b"
   ]
  },
  {
   "cell_type": "code",
   "execution_count": 27,
   "metadata": {
    "collapsed": false
   },
   "outputs": [
    {
     "data": {
      "text/plain": [
       "True\n"
      ]
     },
     "execution_count": 27,
     "metadata": {},
     "output_type": "execute_result"
    }
   ],
   "source": [
    "(* rewrite, then evaluate *)\n",
    "a==a<b /. {a->5,b->10}"
   ]
  },
  {
   "cell_type": "code",
   "execution_count": 28,
   "metadata": {
    "collapsed": false
   },
   "outputs": [
    {
     "data": {
      "text/plain": [
       "1024\n"
      ]
     },
     "execution_count": 28,
     "metadata": {},
     "output_type": "execute_result"
    }
   ],
   "source": [
    "2^10"
   ]
  },
  {
   "cell_type": "code",
   "execution_count": 29,
   "metadata": {
    "collapsed": false
   },
   "outputs": [
    {
     "data": {
      "text/plain": [
       "720\n"
      ]
     },
     "execution_count": 29,
     "metadata": {},
     "output_type": "execute_result"
    }
   ],
   "source": [
    "6! (* factorial *)"
   ]
  },
  {
   "cell_type": "markdown",
   "metadata": {},
   "source": [
    "Boolean expressions, including:\n",
    "\n",
    "- conjunction `a && b`\n",
    "- disjunction `a || b`\n",
    "- prefix negation `!a`"
   ]
  },
  {
   "cell_type": "code",
   "execution_count": 30,
   "metadata": {
    "collapsed": false
   },
   "outputs": [
    {
     "data": {
      "text/plain": [
       "a&&b||!c\n"
      ]
     },
     "execution_count": 30,
     "metadata": {},
     "output_type": "execute_result"
    }
   ],
   "source": [
    "a&&b || !c"
   ]
  },
  {
   "cell_type": "markdown",
   "metadata": {},
   "source": [
    "- `Hold` blocks evaluation of its arguments\n",
    "- `FullForm` prints the raw expression, with no syntactic sugar. very convenient for understanding\n",
    "  some quirks of the parser."
   ]
  },
  {
   "cell_type": "code",
   "execution_count": 31,
   "metadata": {
    "collapsed": false
   },
   "outputs": [
    {
     "data": {
      "text/plain": [
       "Hold[Or[And[a,b],Not[c]]]\n"
      ]
     },
     "execution_count": 31,
     "metadata": {},
     "output_type": "execute_result"
    }
   ],
   "source": [
    "FullForm[Hold[a&&b || !c]]"
   ]
  },
  {
   "cell_type": "code",
   "execution_count": 32,
   "metadata": {
    "collapsed": false
   },
   "outputs": [
    {
     "data": {
      "text/plain": [
       "Hold[1+1]\n"
      ]
     },
     "execution_count": 32,
     "metadata": {},
     "output_type": "execute_result"
    }
   ],
   "source": [
    "Hold[1+1]"
   ]
  },
  {
   "cell_type": "code",
   "execution_count": 33,
   "metadata": {
    "collapsed": false
   },
   "outputs": [
    {
     "data": {
      "text/plain": [
       "f[f[f[f[f[f[f[f[f[f[a]]]]]]]]]]\n"
      ]
     },
     "execution_count": 33,
     "metadata": {},
     "output_type": "execute_result"
    }
   ],
   "source": [
    "Nest[f,a,10]"
   ]
  },
  {
   "cell_type": "code",
   "execution_count": 34,
   "metadata": {
    "collapsed": false
   },
   "outputs": [
    {
     "data": {
      "text/plain": [
       "f[f[f[f[f[f[f[f[f[f[a]]]]]]]]]]\n"
      ]
     },
     "execution_count": 34,
     "metadata": {},
     "output_type": "execute_result"
    }
   ],
   "source": [
    "(f^10)[a]  (* short for Nest *)"
   ]
  },
  {
   "cell_type": "markdown",
   "metadata": {},
   "source": [
    "## Sequence\n",
    "\n",
    "The special symbol `Sequence` has the special property that\n",
    "it \"flattens\" when it appears in a list of arguments (or a list):"
   ]
  },
  {
   "cell_type": "code",
   "execution_count": 35,
   "metadata": {
    "collapsed": false
   },
   "outputs": [
    {
     "data": {
      "text/plain": [
       "Sequence[a,b]\n"
      ]
     },
     "execution_count": 35,
     "metadata": {},
     "output_type": "execute_result"
    }
   ],
   "source": [
    "Sequence[a,b]"
   ]
  },
  {
   "cell_type": "code",
   "execution_count": 36,
   "metadata": {
    "collapsed": false
   },
   "outputs": [
    {
     "data": {
      "text/plain": [
       "{b,c,d}\n"
      ]
     },
     "execution_count": 36,
     "metadata": {},
     "output_type": "execute_result"
    }
   ],
   "source": [
    "f[a,Sequence[b,c],d]"
   ]
  },
  {
   "cell_type": "code",
   "execution_count": 37,
   "metadata": {
    "collapsed": false
   },
   "outputs": [
    {
     "data": {
      "text/plain": [
       "{1,2,3,4,5}\n"
      ]
     },
     "execution_count": 37,
     "metadata": {},
     "output_type": "execute_result"
    }
   ],
   "source": [
    "{Sequence[1,2],Sequence[3,4],5}"
   ]
  },
  {
   "cell_type": "markdown",
   "metadata": {},
   "source": [
    "## Comprehensions"
   ]
  },
  {
   "cell_type": "markdown",
   "metadata": {},
   "source": [
    "Stimsym emphasizes functional programming and pure expressions.\n",
    "Instead of loops, it provides a powerful **comprehension** mechanism.\n",
    "A comprehension expression has the form `expr ::cond1, cond2, …`,\n",
    "a bit similar to python's `expr for … if …` construct.\n",
    "Conditions are evaluated left-to-right, and have one of the forms:\n",
    "\n",
    "- `pattern <- expr`, will match `pattern` against `expr`\n",
    "  and bind variables of `pattern` in the remaining (right-side) conditions\n",
    "\n",
    "- `pattern <<- expr`, will match `pattern` against every expressions\n",
    "  immediately beneath `expr`,\n",
    "  and bind variables of `pattern` in the remaining (right-side) conditions.\n",
    "\n",
    "  For example, `f[x_] <<- {1,f[2],3,f[4]}` will match `f[x_]` with\n",
    "  each element of the list in a backtracking fashion.\n",
    "  First, it will try to match against `1`, fail, then `f[2]`, succeed in\n",
    "  binding `x_ <- 2`, _evaluate the remaining conditions_,\n",
    "  then backtrack, fail against 3, succeed against `f[4]`,\n",
    "  evaluate the remaining conditions with `x_ <- 4`, and terminate.\n",
    "\n",
    "- `expr`, where the expression will be evaluated with the current bindings,\n",
    "  and evaluation continues only if `expr` reduces to `True`.\n",
    "  This is used to add tests, a bit like `bar` in\n",
    "  python's `expr for x in foo if bar`.\n",
    "\n",
    "Note that matching a pattern against an expression can return several results.\n",
    "For instance, `x_+y_ <- a+b` will yield `x=a,y=b` and `x=b,y=a`.\n",
    "In a comprehension, both choices will be considered and returned,\n",
    "like clauses in Prolog.\n",
    "\n",
    "The following expression computes the cartesian product of two lists:"
   ]
  },
  {
   "cell_type": "code",
   "execution_count": 38,
   "metadata": {
    "collapsed": true
   },
   "outputs": [],
   "source": [
    "Product[l1_,l2_] := {{x,y} :: x_<<- l1, y_ <<- l2}"
   ]
  },
  {
   "cell_type": "code",
   "execution_count": 39,
   "metadata": {
    "collapsed": false
   },
   "outputs": [
    {
     "data": {
      "text/plain": [
       "{{1,a},{1,b},{1,c},{2,a},{2,b},{2,c},{3,a},{3,b},{3,c}}\n"
      ]
     },
     "execution_count": 39,
     "metadata": {},
     "output_type": "execute_result"
    }
   ],
   "source": [
    "Product[{1,2,3},{a,b,c}]"
   ]
  },
  {
   "cell_type": "markdown",
   "metadata": {},
   "source": [
    "A comprehension returns a `Sequence`, so it flattens under any\n",
    "other symbol (such as `{}`)."
   ]
  },
  {
   "cell_type": "markdown",
   "metadata": {},
   "source": [
    "## Let-binding\n",
    "\n",
    "Very similar to the comprehension, `Let` is an interesting variation.\n",
    "Its full form is `Let[cond1,…,condn, expr]` where the conditions are\n",
    "similar to those in comprehensions, but it only returns the first\n",
    "successful `expr` and discards the other choices.\n",
    "If there is no successful answer (corresponding to an empty comprehension)\n",
    "then evaluation fails."
   ]
  },
  {
   "cell_type": "code",
   "execution_count": 40,
   "metadata": {
    "collapsed": false
   },
   "outputs": [
    {
     "data": {
      "text/plain": [
       "4\n"
      ]
     },
     "execution_count": 40,
     "metadata": {},
     "output_type": "execute_result"
    }
   ],
   "source": [
    "Let[x_<-1, y_<-2, 2 x+y]"
   ]
  },
  {
   "cell_type": "code",
   "execution_count": 41,
   "metadata": {
    "collapsed": false
   },
   "outputs": [
    {
     "data": {
      "text/plain": [
       "{b}\n"
      ]
     },
     "execution_count": 41,
     "metadata": {},
     "output_type": "execute_result"
    }
   ],
   "source": [
    "Let[x_+y_ <- a+b, f[x,y]]"
   ]
  },
  {
   "cell_type": "code",
   "execution_count": 42,
   "metadata": {
    "collapsed": false
   },
   "outputs": [
    {
     "data": {
      "text/plain": [
       "{{b},f[b,a]}\n"
      ]
     },
     "execution_count": 42,
     "metadata": {},
     "output_type": "execute_result"
    }
   ],
   "source": [
    "{f[x,y]:: x_+y_ <-a+b} (* contrast with that *)"
   ]
  },
  {
   "cell_type": "code",
   "execution_count": 43,
   "metadata": {
    "collapsed": false
   },
   "outputs": [
    {
     "ename": "error",
     "evalue": "evaluation failed: no match for `Let`\n",
     "output_type": "error",
     "traceback": [
      "ERROR evaluation failed: no match for `Let`\n",
      "evaluating Let[x_?IntegerQ <- a, x] (* no answer -> failure! *)"
     ]
    }
   ],
   "source": [
    "Let[x_?IntegerQ <- a, x] (* no answer -> failure! *)"
   ]
  },
  {
   "cell_type": "markdown",
   "metadata": {},
   "source": [
    "## Anonymous functions\n",
    "\n",
    "There is a way to denote simple anonymous functions using the postfix `&`\n",
    "operator and `#1`, `#2`, … for arguments. `#0` is the whole sequence\n",
    "of elements."
   ]
  },
  {
   "cell_type": "code",
   "execution_count": 44,
   "metadata": {
    "collapsed": false
   },
   "outputs": [
    {
     "data": {
      "text/plain": [
       "a\n"
      ]
     },
     "execution_count": 44,
     "metadata": {},
     "output_type": "execute_result"
    }
   ],
   "source": [
    "(#1 &)[a,b,c]"
   ]
  },
  {
   "cell_type": "code",
   "execution_count": 45,
   "metadata": {
    "collapsed": false
   },
   "outputs": [
    {
     "data": {
      "text/plain": [
       "{{a,b,c}}\n"
      ]
     },
     "execution_count": 45,
     "metadata": {},
     "output_type": "execute_result"
    }
   ],
   "source": [
    "(f[#1,{#0}]&)[a,b,c]"
   ]
  },
  {
   "cell_type": "code",
   "execution_count": 46,
   "metadata": {
    "collapsed": false
   },
   "outputs": [
    {
     "data": {
      "text/plain": [
       "720\n"
      ]
     },
     "execution_count": 46,
     "metadata": {},
     "output_type": "execute_result"
    }
   ],
   "source": [
    "(Plus[#0]!&)[1,2,3]  (* sum, then factorial *)"
   ]
  },
  {
   "cell_type": "code",
   "execution_count": 47,
   "metadata": {
    "collapsed": false
   },
   "outputs": [
    {
     "data": {
      "text/plain": [
       "720\n"
      ]
     },
     "execution_count": 47,
     "metadata": {},
     "output_type": "execute_result"
    },
    {
     "data": {
      "text/html": [
       "<div><div><div><h4>trace</h4><div><p>`(#0)!&amp;[1,2,3]` -&gt; `(1+2+3)!`</p></div><div><p>`1+2+3` -&gt; `6`</p></div><div><p>`6!` -&gt; `720`</p></div></div></div></div>\n"
      ]
     },
     "metadata": {},
     "output_type": "display_data"
    }
   ],
   "source": [
    "Trace[(Plus[#0]!&)[1,2,3]]"
   ]
  },
  {
   "cell_type": "markdown",
   "metadata": {},
   "source": [
    "## Inline Documentation: `Doc`\n",
    "\n",
    "Evaluating `Doc[f]` where `f` is a builtin symbol will display the\n",
    "corresponding documentation:"
   ]
  },
  {
   "cell_type": "code",
   "execution_count": 48,
   "metadata": {
    "collapsed": false
   },
   "outputs": [
    {
     "data": {
      "text/html": [
       "<div><div><h3>Plus</h3></div><div><p>Addition operator. Associative, Commutative, with regular evaluation on numbers.</p></div><div><div><h4>neutral element</h4><div><p>0</p></div></div></div><div><div><h4>infix form</h4><div><p>`a + b + c + d`</p></div></div></div></div>\n"
      ]
     },
     "metadata": {},
     "output_type": "display_data"
    }
   ],
   "source": [
    "Doc[Plus]"
   ]
  },
  {
   "cell_type": "markdown",
   "metadata": {},
   "source": [
    "## Graph Display\n",
    "\n",
    "The `Graph` primitive is used to represent graph structures."
   ]
  },
  {
   "cell_type": "code",
   "execution_count": 49,
   "metadata": {
    "collapsed": false
   },
   "outputs": [
    {
     "data": {
      "text/html": [
       "<div><div><h3>Graph</h3></div><div><p>A directed graph structure.</p></div><div><p>`Graph[{a-&gt;b,…}]` builds a graph from a list of edges.</p></div><div><p>`Graph[{a,b,c},{a-&gt;b,…}]` builds a graph from a list of vertices and a list of edges.</p></div><div><p>The graph has a graphical display in the notebook.</p></div><div><div><h4>example</h4><div><p>a simple 2-layers graph</p></div><div><pre>Graph[{i-&gt;j :: i_&lt;&lt;- {1,2,3,4}, j_&lt;&lt;-{a,b,c,d}}]</pre></div></div></div></div>\n"
      ]
     },
     "metadata": {},
     "output_type": "display_data"
    }
   ],
   "source": [
    "Doc[Graph]"
   ]
  },
  {
   "cell_type": "markdown",
   "metadata": {},
   "source": [
    "Here, a simple graph where each node is connected to its two immediate successors in $\\mathbb{Z}/6\\mathbb{Z}$"
   ]
  },
  {
   "cell_type": "code",
   "execution_count": 50,
   "metadata": {
    "collapsed": false
   },
   "outputs": [
    {
     "data": {
      "text/plain": [
       "Graph[{3,5,2,4,1,0},\n",
       "      {0->1,0->2,1->2,1->3,2->3,2->4,3->4,3->5,4->5,4->0,5->0,5->1}]\n"
      ]
     },
     "execution_count": 50,
     "metadata": {},
     "output_type": "execute_result"
    },
    {
     "data": {
      "image/png": "[encoded data removed]"
     },
     "metadata": {},
     "output_type": "display_data"
    }
   ],
   "source": [
    "Graph[{Sequence[i->Mod[i+1,6],i->Mod[i+2,6]] :: i_<<- Range[5]}]"
   ]
  },
  {
   "cell_type": "markdown",
   "metadata": {},
   "source": [
    "## Larger Examples\n",
    "\n",
    "- enumerate the way to split a sum in one atom + 2 sub-sums:\n",
    "  To do so, we match `a+b+c+d` with the pattern `x_+y__+z__`,\n",
    "  where `y` and `z` match non-empty sequences.\n",
    "  Using the comprehension mechanism, we build a term\n",
    "  `f[x,{y},{z}]` for each result of this matching, and wrap\n",
    "  the result in a list."
   ]
  },
  {
   "cell_type": "code",
   "execution_count": 51,
   "metadata": {
    "collapsed": false
   },
   "outputs": [
    {
     "data": {
      "text/plain": [
       "{{{c,b},{d}},\n",
       " {{d,b},{c}},\n",
       " {{b},{d,c}},\n",
       " {{d,c},{b}},\n",
       " {{c},{d,b}},\n",
       " {{d},{c,b}},\n",
       " f[b,{c,a},{d}],\n",
       " f[b,{d,a},{c}],\n",
       " f[b,{a},{d,c}],\n",
       " f[b,{d,c},{a}],\n",
       " f[b,{c},{d,a}],\n",
       " f[b,{d},{c,a}],\n",
       " f[c,{b,a},{d}],\n",
       " f[c,{d,a},{b}],\n",
       " f[c,{a},{d,b}],\n",
       " f[c,{d,b},{a}],\n",
       " f[c,{b},{d,a}],\n",
       " f[c,{d},{b,a}],\n",
       " f[d,{b,a},{c}],\n",
       " f[d,{c,a},{b}],\n",
       " f[d,{a},{c,b}],\n",
       " f[d,{c,b},{a}],\n",
       " f[d,{b},{c,a}],\n",
       " f[d,{c},{b,a}]}\n"
      ]
     },
     "execution_count": 51,
     "metadata": {},
     "output_type": "execute_result"
    }
   ],
   "source": [
    "{f[x,{y},{z}] :: x_+y__+z__<-a+b+c+d}"
   ]
  },
  {
   "cell_type": "markdown",
   "metadata": {},
   "source": [
    "- compute `3!!!`:\n",
    " \n",
    "  we compute `(fun x -> x!)` (i.e. `(#! &)`)\n",
    "  composed 3 times with itself (`^3`) and then applied to 3."
   ]
  },
  {
   "cell_type": "code",
   "execution_count": 52,
   "metadata": {
    "collapsed": false
   },
   "outputs": [
    {
     "data": {
      "text/plain": [
       "2601218943565795100204903227081043611191521875016945785727541837850835631156947382240678577958130457082619920575892247259536641565162052015873791984587740832529105244690388811884123764341191951045505346658616243271940197113909845536727278537099345629855586719369774070003700430783758997420676784016967207846280629229032107161669867260548988445514257193985499448939594496064045132362140265986193073249369770477606067680670176491669403034819961881455625195592566918830825514942947596537274845624628824234526597789737740896466553992435928786212515967483220976029505696699927284670563747137533019248313587076125412683415860129447566011455420749589952563543068288634631084965650682771552996256790845235702552186222358130016700834523443236821935793184701956510729781804354173890560727428048583995919729021726612291298420516067579036232337699453964191475175567557695392233803056825308599977441675784352815913461340394604901269542028838347101363733824484506660093348484440711931292537694657354337375724772230181534032647177531984537341478674327048457983786618703257405938924215709695994630557521063203263493209220738320923356309923267504401701760572026010829288042335606643089888710297380797578013056049576342838683057190662205291174822510536697756603029574043387983471518552602805333866357139101046336419769097397432285994219837046979109956303389604675889865795711176566670039156748153115943980043625399399731203066490601325311304719028898491856203766669164468791125249193754425845895000311561682974304641142538074897281723375955380661719801404677935614793635266265683339509760000000000000000000000000000000000000000000000000000000000000000000000000000000000000000000000000000000000000000000000000000000000000000000000000000000000000000000000000000000000\n"
      ]
     },
     "execution_count": 52,
     "metadata": {},
     "output_type": "execute_result"
    }
   ],
   "source": [
    "((#!&)^3)[3]"
   ]
  },
  {
   "cell_type": "markdown",
   "metadata": {},
   "source": [
    "- union in comprehension:"
   ]
  },
  {
   "cell_type": "code",
   "execution_count": 56,
   "metadata": {
    "collapsed": false
   },
   "outputs": [
    {
     "data": {
      "text/plain": [
       "f[Set[0],\n",
       "  Set[0,1],\n",
       "  Set[0,1,2],\n",
       "  Set[0,1,2,3],\n",
       "  Set[0,1,2,3,4],\n",
       "  Set[0,1,2,3,4,5],\n",
       "  Set[0,1,2,3,4,5,6],\n",
       "  Set[0,1,2,3,4,5,6,7],\n",
       "  Set[0,1,2,3,4,5,6,7,8],\n",
       "  Set[0,1,2,3,4,5,6,7,8,9],\n",
       "  Set[0,1,2,3,4,5,6,7,8,9,10]]\n"
      ]
     },
     "execution_count": 56,
     "metadata": {},
     "output_type": "execute_result"
    }
   ],
   "source": [
    "f[Set[RangeSeq[i]]:: i_<<-RangeSeq[10]]"
   ]
  },
  {
   "cell_type": "code",
   "execution_count": 55,
   "metadata": {
    "collapsed": false
   },
   "outputs": [
    {
     "data": {
      "text/plain": [
       "Set[0,1,2,3,4,5,6,7,8,9,10]\n"
      ]
     },
     "execution_count": 55,
     "metadata": {},
     "output_type": "execute_result"
    }
   ],
   "source": [
    "Union[Set[RangeSeq[i]]:: i_<<-RangeSeq[10]]"
   ]
  },
  {
   "cell_type": "code",
   "execution_count": null,
   "metadata": {
    "collapsed": false
   },
   "outputs": [],
   "source": []
  },
  {
   "cell_type": "code",
   "execution_count": null,
   "metadata": {
    "collapsed": true
   },
   "outputs": [],
   "source": []
  }
 ],
 "metadata": {
  "kernelspec": {
   "display_name": "Stimsym",
   "language": "stimsym",
   "name": "stimsym"
  },
  "language_info": {
   "file_extension": ".txt",
   "mimetype": "text",
   "name": "stimsym",
   "version": "0.1.0"
  }
 },
 "nbformat": 4,
 "nbformat_minor": 2
}
