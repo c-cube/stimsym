{
 "cells": [
  {
   "cell_type": "code",
   "execution_count": 1,
   "metadata": {
    "collapsed": false
   },
   "outputs": [
    {
     "data": {
      "text/plain": [
       "2\n"
      ]
     },
     "execution_count": 1,
     "metadata": {},
     "output_type": "execute_result"
    }
   ],
   "source": [
    "1+1"
   ]
  },
  {
   "cell_type": "code",
   "execution_count": 2,
   "metadata": {
    "collapsed": false
   },
   "outputs": [
    {
     "data": {
      "text/plain": [
       "{{1,2,3}}\n"
      ]
     },
     "execution_count": 2,
     "metadata": {},
     "output_type": "execute_result"
    }
   ],
   "source": [
    "{{1,2,3}}"
   ]
  },
  {
   "cell_type": "code",
   "execution_count": 3,
   "metadata": {
    "collapsed": false
   },
   "outputs": [
    {
     "data": {
      "text/plain": [
       "h[4,5,3,2,1]\n"
      ]
     },
     "execution_count": 3,
     "metadata": {},
     "output_type": "execute_result"
    }
   ],
   "source": [
    "f[1,2,g[3],4,5] //. f[l1__,l2__,g[x_],r__] :> h[r,x,l2,l1]"
   ]
  },
  {
   "cell_type": "code",
   "execution_count": 4,
   "metadata": {
    "collapsed": false
   },
   "outputs": [
    {
     "data": {
      "text/plain": [
       "{b}\n"
      ]
     },
     "execution_count": 4,
     "metadata": {},
     "output_type": "execute_result"
    }
   ],
   "source": [
    "f[g[a1,b,c1],h[a2,b,c2]] //. f[g[___,x_,___],h[___,y_,___]] /; x===y :> {x}"
   ]
  },
  {
   "cell_type": "code",
   "execution_count": 5,
   "metadata": {
    "collapsed": false
   },
   "outputs": [],
   "source": [
    "(* the bubble sort rule *)\n",
    "sortRule := {x___,y_,z_,k___}/;(y>z) :> {x,z,y,k}"
   ]
  },
  {
   "cell_type": "code",
   "execution_count": 6,
   "metadata": {
    "collapsed": false
   },
   "outputs": [
    {
     "data": {
      "text/plain": [
       "{26,44,47,48,49,49,50,51,59,64,67,71,71,73,96}\n"
      ]
     },
     "execution_count": 6,
     "metadata": {},
     "output_type": "execute_result"
    }
   ],
   "source": [
    "{64, 44, 71, 48, 96, 47, 59, 71, 73, 51, 67, 50, 26, 49, 49}//.sortRule"
   ]
  },
  {
   "cell_type": "code",
   "execution_count": 7,
   "metadata": {
    "collapsed": false
   },
   "outputs": [
    {
     "data": {
      "text/plain": [
       "Sat[{a->True,b->True,c->True,d->False}]\n"
      ]
     },
     "execution_count": 7,
     "metadata": {},
     "output_type": "execute_result"
    }
   ],
   "source": [
    "res1 = SatSolve[a&&b && (!a || c||d) && !d];\n",
    "res1"
   ]
  },
  {
   "cell_type": "code",
   "execution_count": 8,
   "metadata": {
    "collapsed": false
   },
   "outputs": [
    {
     "data": {
      "text/plain": [
       "{a,b,c}\n"
      ]
     },
     "execution_count": 8,
     "metadata": {},
     "output_type": "execute_result"
    }
   ],
   "source": [
    "(* extract the true atoms using a comprehension *)\n",
    "{x :: Sat[{m___}]<-res1,(x_->True)<<-m}"
   ]
  },
  {
   "cell_type": "code",
   "execution_count": 9,
   "metadata": {
    "collapsed": false,
    "scrolled": true
   },
   "outputs": [
    {
     "data": {
      "text/plain": [
       "Unsat[]\n"
      ]
     },
     "execution_count": 9,
     "metadata": {},
     "output_type": "execute_result"
    }
   ],
   "source": [
    "SatSolve[a&&b&&(!a||!b)]"
   ]
  },
  {
   "cell_type": "code",
   "execution_count": 10,
   "metadata": {
    "collapsed": false,
    "scrolled": true
   },
   "outputs": [
    {
     "data": {
      "text/html": [
       "<div><div><h3>SatSolve</h3></div><div><p>`SatSolve[form]` calls a SAT solver on the formula given as parameter. The formula is reduced to CNF automatically before calling Minisat.</p></div><div><p>If Minisat is not installed, this does not reduce.</p></div><div><p>Returns either `Sat[{m___}]` where `m` is the model, as a list of bindings `Atom -&gt; True` or `Atom -&gt; False`, or Unsat[].</p></div><div><div><h4>example</h4><div><p>The following call will return `Unsat[]`.</p></div><div><pre>`SatSolve[(A || B)&amp;&amp; (!A || !B) &amp;&amp; !B]`</pre></div></div></div><div><div><h4>example</h4><div><p>The following call will return `Sat[A -&gt; False,B-&gt;True]`, containing a model for each atom appearing in the formulas.</p></div><div><pre>`SatSolve[And[A || B,!A]]`</pre></div></div></div><div><div><h4>example</h4><div><ul><li><div><div><p>Find a model of `a&amp;&amp;b` and extract the value of `a` in the model using `Let`:</p></div><div><pre>`Let[{___,a-&gt;r_,___}&lt;&lt;-SatSolve[a&amp;&amp;b],r]`</pre></div></div></li><li><div><div><p>also check that the model reduces the formula to `True`:</p></div><div><pre>`Let[Sat[m_]&lt;-SatSolve[a&amp;&amp;b], a&amp;&amp;b//. m]`</pre></div></div></li><li><div><div><p>convert the model into (possibly negated) atoms:</p></div><div><pre>Let[Sat[m_]&lt;-SatSolve[a&amp;&amp;b,!c], m//.{(x_-&gt;False):&gt;!x, (x_-&gt;True):&gt;x}]</pre></div><div><p>(yield `{a,b,!c}`)</p></div></div></li></ul></div></div></div><div><div><h4>requires</h4><div><p>`minisat` must be on the $PATH</p></div></div></div></div>\n"
      ]
     },
     "metadata": {},
     "output_type": "display_data"
    }
   ],
   "source": [
    "Doc[SatSolve]"
   ]
  },
  {
   "cell_type": "code",
   "execution_count": 11,
   "metadata": {
    "collapsed": false
   },
   "outputs": [
    {
     "data": {
      "text/plain": [
       "True\n"
      ]
     },
     "execution_count": 11,
     "metadata": {},
     "output_type": "execute_result"
    }
   ],
   "source": [
    "Let[Sat[m_]<-SatSolve[a&&b], a&&b//. m]"
   ]
  },
  {
   "cell_type": "code",
   "execution_count": null,
   "metadata": {
    "collapsed": true
   },
   "outputs": [],
   "source": []
  }
 ],
 "metadata": {
  "kernelspec": {
   "display_name": "Stimsym",
   "language": "stimsym",
   "name": "stimsym"
  },
  "language_info": {
   "file_extension": ".txt",
   "mimetype": "text",
   "name": "stimsym",
   "version": "0.1.0"
  }
 },
 "nbformat": 4,
 "nbformat_minor": 1
}
